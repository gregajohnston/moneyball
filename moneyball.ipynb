{
 "cells": [
  {
   "cell_type": "code",
   "execution_count": 1,
   "metadata": {
    "collapsed": true
   },
   "outputs": [],
   "source": [
    "import pandas as pd\n",
    "import numpy as np\n",
    "import matplotlib.pyplot as plt\n",
    "from pandas import DataFrame, Series\n",
    "import re\n",
    "\n",
    "%matplotlib inline"
   ]
  },
  {
   "cell_type": "code",
   "execution_count": 2,
   "metadata": {
    "collapsed": false
   },
   "outputs": [],
   "source": [
    "salary_data = pd.read_csv(\n",
    "                    'Data/salaries.csv', dtype='str',\n",
    "                    names=['yearID', 'teamID', 'lgID',\n",
    "                              'playerID', 'salary'])"
   ]
  },
  {
   "cell_type": "code",
   "execution_count": 3,
   "metadata": {
    "collapsed": true
   },
   "outputs": [],
   "source": [
    "batting_data = pd.read_csv(\n",
    "                    'Data/batting.csv', dtype='str',\n",
    "                    names=['playerID', 'yearID',\n",
    "                           'stint', 'teamID', 'lgID',\n",
    "                           'G', 'AB', 'R', 'H', '2B',\n",
    "                           '3B', 'HR', 'RBI', 'SB',\n",
    "                           'CS', 'BB', 'SO', 'IBB',\n",
    "                           'HBP', 'SH', 'SF', 'GDIP'])\n",
    "batting_data = batting_data.ix[1:]"
   ]
  },
  {
   "cell_type": "code",
   "execution_count": 4,
   "metadata": {
    "collapsed": false
   },
   "outputs": [],
   "source": [
    "batting_numbers = batting_data.apply(pd.to_numeric, errors='coerce')"
   ]
  },
  {
   "cell_type": "code",
   "execution_count": 12,
   "metadata": {
    "collapsed": false
   },
   "outputs": [],
   "source": [
    "batting_numbers = batting_numbers[batting_numbers.SF >= 0]"
   ]
  },
  {
   "cell_type": "code",
   "execution_count": 24,
   "metadata": {
    "collapsed": false
   },
   "outputs": [],
   "source": [
    "numerator = batting_numbers[['H','BB', 'HBP']].copy()\n",
    "denominator = batting_numbers[['AB', 'BB', 'HBP', 'SF']].copy()\n",
    "\n"
   ]
  },
  {
   "cell_type": "code",
   "execution_count": 25,
   "metadata": {
    "collapsed": false
   },
   "outputs": [],
   "source": [
    "numerator = numerator.sum(axis=1)\n",
    "denominator = denominator.sum(axis=1)"
   ]
  },
  {
   "cell_type": "code",
   "execution_count": 26,
   "metadata": {
    "collapsed": false
   },
   "outputs": [
    {
     "data": {
      "text/plain": [
       "4561        0.0\n",
       "5089        0.0\n",
       "5178        0.0\n",
       "5416        0.0\n",
       "5748        0.0\n",
       "5903        0.0\n",
       "6286        0.0\n",
       "6297        0.0\n",
       "6320        0.0\n",
       "6322        0.0\n",
       "6370        0.0\n",
       "6396        0.0\n",
       "6550        0.0\n",
       "6819        0.0\n",
       "6944        0.0\n",
       "7351        0.0\n",
       "7807        0.0\n",
       "7838        0.0\n",
       "8208        0.0\n",
       "8342        0.0\n",
       "8649        0.0\n",
       "9379        0.0\n",
       "9588        0.0\n",
       "9918        0.0\n",
       "9970        0.0\n",
       "10339       0.0\n",
       "10663       0.0\n",
       "10742       0.0\n",
       "10804       0.0\n",
       "10817       0.0\n",
       "          ...  \n",
       "101303      6.0\n",
       "101304      0.0\n",
       "101305      0.0\n",
       "101306    197.0\n",
       "101307      8.0\n",
       "101308      5.0\n",
       "101309      5.0\n",
       "101310      0.0\n",
       "101311      3.0\n",
       "101312     66.0\n",
       "101313      1.0\n",
       "101314      0.0\n",
       "101315      0.0\n",
       "101316      0.0\n",
       "101317      0.0\n",
       "101318    192.0\n",
       "101319     36.0\n",
       "101320      2.0\n",
       "101321    113.0\n",
       "101322     52.0\n",
       "101323     19.0\n",
       "101324      1.0\n",
       "101325      0.0\n",
       "101326     10.0\n",
       "101327    120.0\n",
       "101328      0.0\n",
       "101329     96.0\n",
       "101330     96.0\n",
       "101331     87.0\n",
       "101332      0.0\n",
       "dtype: float64"
      ]
     },
     "execution_count": 26,
     "metadata": {},
     "output_type": "execute_result"
    }
   ],
   "source": [
    "numerator"
   ]
  },
  {
   "cell_type": "code",
   "execution_count": null,
   "metadata": {
    "collapsed": true
   },
   "outputs": [],
   "source": [
    "batting_numbers['OBP'] = numerator.div(denominator)\n",
    "# sorted(ufo.date_occurred.unique(), reverse=True)\n",
    "# ufo.loc[ufo['date_occurred'] == '0000', 'date_occurred'] = np.nan\n",
    "# df = df[df.line_race != 0]"
   ]
  }
 ],
 "metadata": {
  "kernelspec": {
   "display_name": "Python 3",
   "language": "python",
   "name": "python3"
  },
  "language_info": {
   "codemirror_mode": {
    "name": "ipython",
    "version": 3
   },
   "file_extension": ".py",
   "mimetype": "text/x-python",
   "name": "python",
   "nbconvert_exporter": "python",
   "pygments_lexer": "ipython3",
   "version": "3.5.1"
  }
 },
 "nbformat": 4,
 "nbformat_minor": 0
}
